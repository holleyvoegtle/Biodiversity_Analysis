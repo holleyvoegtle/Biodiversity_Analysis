{
 "cells": [
  {
   "cell_type": "markdown",
   "id": "fluid-theater",
   "metadata": {},
   "source": [
    "## Import Dependencies"
   ]
  },
  {
   "cell_type": "code",
   "execution_count": 2,
   "id": "signed-clinton",
   "metadata": {},
   "outputs": [],
   "source": [
    "import pandas as pd\n",
    "from pathlib import Path\n",
    "import matplotlib.pyplot as plt\n",
    "from sklearn.linear_model import LinearRegression"
   ]
  },
  {
   "cell_type": "markdown",
   "id": "reduced-portrait",
   "metadata": {},
   "source": [
    "## Load Data"
   ]
  },
  {
   "cell_type": "code",
   "execution_count": 3,
   "id": "impressive-survey",
   "metadata": {},
   "outputs": [
    {
     "name": "stderr",
     "output_type": "stream",
     "text": [
      "C:\\Users\\ohugh\\Anaconda3\\envs\\mlenv\\lib\\site-packages\\IPython\\core\\interactiveshell.py:3147: DtypeWarning: Columns (13) have mixed types.Specify dtype option on import or set low_memory=False.\n",
      "  interactivity=interactivity, compiler=compiler, result=result)\n"
     ]
    }
   ],
   "source": [
    "#Load in data (We will eventually have this pulled in from a Postgres RDS)\n",
    "parks_df = pd.read_csv(Path('Resources/parks.csv'))\n",
    "species_df = pd.read_csv(Path('Resources/species.csv'))\n",
    "visitation_df = pd.read_csv(Path('Resources/park_visitation.csv'))\n",
    "mockup_df = pd.read_csv(Path('Resources/mockup_data.csv'))"
   ]
  },
  {
   "cell_type": "code",
   "execution_count": 4,
   "id": "velvet-consumer",
   "metadata": {},
   "outputs": [
    {
     "name": "stdout",
     "output_type": "stream",
     "text": [
      "(56, 6)\n"
     ]
    },
    {
     "data": {
      "text/html": [
       "<div>\n",
       "<style scoped>\n",
       "    .dataframe tbody tr th:only-of-type {\n",
       "        vertical-align: middle;\n",
       "    }\n",
       "\n",
       "    .dataframe tbody tr th {\n",
       "        vertical-align: top;\n",
       "    }\n",
       "\n",
       "    .dataframe thead th {\n",
       "        text-align: right;\n",
       "    }\n",
       "</style>\n",
       "<table border=\"1\" class=\"dataframe\">\n",
       "  <thead>\n",
       "    <tr style=\"text-align: right;\">\n",
       "      <th></th>\n",
       "      <th>Park Code</th>\n",
       "      <th>Park Name</th>\n",
       "      <th>State</th>\n",
       "      <th>Acres</th>\n",
       "      <th>Latitude</th>\n",
       "      <th>Longitude</th>\n",
       "    </tr>\n",
       "  </thead>\n",
       "  <tbody>\n",
       "    <tr>\n",
       "      <th>0</th>\n",
       "      <td>ACAD</td>\n",
       "      <td>Acadia National Park</td>\n",
       "      <td>ME</td>\n",
       "      <td>47390</td>\n",
       "      <td>44.35</td>\n",
       "      <td>-68.21</td>\n",
       "    </tr>\n",
       "    <tr>\n",
       "      <th>1</th>\n",
       "      <td>ARCH</td>\n",
       "      <td>Arches National Park</td>\n",
       "      <td>UT</td>\n",
       "      <td>76519</td>\n",
       "      <td>38.68</td>\n",
       "      <td>-109.57</td>\n",
       "    </tr>\n",
       "    <tr>\n",
       "      <th>2</th>\n",
       "      <td>BADL</td>\n",
       "      <td>Badlands National Park</td>\n",
       "      <td>SD</td>\n",
       "      <td>242756</td>\n",
       "      <td>43.75</td>\n",
       "      <td>-102.50</td>\n",
       "    </tr>\n",
       "    <tr>\n",
       "      <th>3</th>\n",
       "      <td>BIBE</td>\n",
       "      <td>Big Bend National Park</td>\n",
       "      <td>TX</td>\n",
       "      <td>801163</td>\n",
       "      <td>29.25</td>\n",
       "      <td>-103.25</td>\n",
       "    </tr>\n",
       "    <tr>\n",
       "      <th>4</th>\n",
       "      <td>BISC</td>\n",
       "      <td>Biscayne National Park</td>\n",
       "      <td>FL</td>\n",
       "      <td>172924</td>\n",
       "      <td>25.65</td>\n",
       "      <td>-80.08</td>\n",
       "    </tr>\n",
       "  </tbody>\n",
       "</table>\n",
       "</div>"
      ],
      "text/plain": [
       "  Park Code               Park Name State   Acres  Latitude  Longitude\n",
       "0      ACAD    Acadia National Park    ME   47390     44.35     -68.21\n",
       "1      ARCH    Arches National Park    UT   76519     38.68    -109.57\n",
       "2      BADL  Badlands National Park    SD  242756     43.75    -102.50\n",
       "3      BIBE  Big Bend National Park    TX  801163     29.25    -103.25\n",
       "4      BISC  Biscayne National Park    FL  172924     25.65     -80.08"
      ]
     },
     "execution_count": 4,
     "metadata": {},
     "output_type": "execute_result"
    }
   ],
   "source": [
    "print(parks_df.shape)\n",
    "parks_df.head()"
   ]
  },
  {
   "cell_type": "code",
   "execution_count": 5,
   "id": "breeding-subscription",
   "metadata": {},
   "outputs": [
    {
     "name": "stdout",
     "output_type": "stream",
     "text": [
      "(119248, 14)\n"
     ]
    },
    {
     "data": {
      "text/plain": [
       "array(['Mammal', 'Bird', 'Reptile', 'Amphibian', 'Fish', 'Vascular Plant',\n",
       "       'Spider/Scorpion', 'Insect', 'Invertebrate', 'Fungi',\n",
       "       'Nonvascular Plant', 'Crab/Lobster/Shrimp', 'Slug/Snail', 'Algae'],\n",
       "      dtype=object)"
      ]
     },
     "execution_count": 5,
     "metadata": {},
     "output_type": "execute_result"
    }
   ],
   "source": [
    "print(species_df.shape)\n",
    "species_df.Category.unique()"
   ]
  },
  {
   "cell_type": "code",
   "execution_count": 6,
   "id": "everyday-queens",
   "metadata": {},
   "outputs": [
    {
     "name": "stdout",
     "output_type": "stream",
     "text": [
      "(383, 12)\n"
     ]
    },
    {
     "data": {
      "text/html": [
       "<div>\n",
       "<style scoped>\n",
       "    .dataframe tbody tr th:only-of-type {\n",
       "        vertical-align: middle;\n",
       "    }\n",
       "\n",
       "    .dataframe tbody tr th {\n",
       "        vertical-align: top;\n",
       "    }\n",
       "\n",
       "    .dataframe thead th {\n",
       "        text-align: right;\n",
       "    }\n",
       "</style>\n",
       "<table border=\"1\" class=\"dataframe\">\n",
       "  <thead>\n",
       "    <tr style=\"text-align: right;\">\n",
       "      <th></th>\n",
       "      <th>Park Name</th>\n",
       "      <th>2011</th>\n",
       "      <th>2012</th>\n",
       "      <th>2013</th>\n",
       "      <th>2014</th>\n",
       "      <th>2015</th>\n",
       "      <th>2016</th>\n",
       "      <th>2017</th>\n",
       "      <th>2018</th>\n",
       "      <th>2019</th>\n",
       "      <th>2020</th>\n",
       "      <th>Average</th>\n",
       "    </tr>\n",
       "  </thead>\n",
       "  <tbody>\n",
       "    <tr>\n",
       "      <th>0</th>\n",
       "      <td>Abraham Lincoln Birthplace NHP</td>\n",
       "      <td>163568.0</td>\n",
       "      <td>169515.0</td>\n",
       "      <td>163928.0</td>\n",
       "      <td>241264.0</td>\n",
       "      <td>148605.0</td>\n",
       "      <td>252495.0</td>\n",
       "      <td>269580.0</td>\n",
       "      <td>260964.0</td>\n",
       "      <td>238226.0</td>\n",
       "      <td>228141</td>\n",
       "      <td>213628.6</td>\n",
       "    </tr>\n",
       "    <tr>\n",
       "      <th>1</th>\n",
       "      <td>Acadia NP</td>\n",
       "      <td>2374645.0</td>\n",
       "      <td>2431052.0</td>\n",
       "      <td>2254922.0</td>\n",
       "      <td>2563129.0</td>\n",
       "      <td>2811184.0</td>\n",
       "      <td>3303393.0</td>\n",
       "      <td>3509271.0</td>\n",
       "      <td>3537575.0</td>\n",
       "      <td>3437286.0</td>\n",
       "      <td>2669034</td>\n",
       "      <td>2889149.1</td>\n",
       "    </tr>\n",
       "    <tr>\n",
       "      <th>2</th>\n",
       "      <td>Adams NHP</td>\n",
       "      <td>219975.0</td>\n",
       "      <td>336031.0</td>\n",
       "      <td>285501.0</td>\n",
       "      <td>178468.0</td>\n",
       "      <td>183632.0</td>\n",
       "      <td>199301.0</td>\n",
       "      <td>255562.0</td>\n",
       "      <td>121007.0</td>\n",
       "      <td>187400.0</td>\n",
       "      <td>6937</td>\n",
       "      <td>197381.4</td>\n",
       "    </tr>\n",
       "    <tr>\n",
       "      <th>3</th>\n",
       "      <td>African Burial Ground NM</td>\n",
       "      <td>108585.0</td>\n",
       "      <td>77624.0</td>\n",
       "      <td>93234.0</td>\n",
       "      <td>54861.0</td>\n",
       "      <td>56348.0</td>\n",
       "      <td>46526.0</td>\n",
       "      <td>43182.0</td>\n",
       "      <td>45035.0</td>\n",
       "      <td>47427.0</td>\n",
       "      <td>7908</td>\n",
       "      <td>58073.0</td>\n",
       "    </tr>\n",
       "    <tr>\n",
       "      <th>4</th>\n",
       "      <td>Agate Fossil Beds NM</td>\n",
       "      <td>11617.0</td>\n",
       "      <td>11824.0</td>\n",
       "      <td>10504.0</td>\n",
       "      <td>12440.0</td>\n",
       "      <td>13264.0</td>\n",
       "      <td>15555.0</td>\n",
       "      <td>32038.0</td>\n",
       "      <td>16238.0</td>\n",
       "      <td>16657.0</td>\n",
       "      <td>8722</td>\n",
       "      <td>14885.9</td>\n",
       "    </tr>\n",
       "  </tbody>\n",
       "</table>\n",
       "</div>"
      ],
      "text/plain": [
       "                        Park Name       2011       2012       2013       2014  \\\n",
       "0  Abraham Lincoln Birthplace NHP   163568.0   169515.0   163928.0   241264.0   \n",
       "1                       Acadia NP  2374645.0  2431052.0  2254922.0  2563129.0   \n",
       "2                       Adams NHP   219975.0   336031.0   285501.0   178468.0   \n",
       "3        African Burial Ground NM   108585.0    77624.0    93234.0    54861.0   \n",
       "4            Agate Fossil Beds NM    11617.0    11824.0    10504.0    12440.0   \n",
       "\n",
       "        2015       2016       2017       2018       2019     2020    Average  \n",
       "0   148605.0   252495.0   269580.0   260964.0   238226.0   228141   213628.6  \n",
       "1  2811184.0  3303393.0  3509271.0  3537575.0  3437286.0  2669034  2889149.1  \n",
       "2   183632.0   199301.0   255562.0   121007.0   187400.0     6937   197381.4  \n",
       "3    56348.0    46526.0    43182.0    45035.0    47427.0     7908    58073.0  \n",
       "4    13264.0    15555.0    32038.0    16238.0    16657.0     8722    14885.9  "
      ]
     },
     "execution_count": 6,
     "metadata": {},
     "output_type": "execute_result"
    }
   ],
   "source": [
    "print(visitation_df.shape)\n",
    "visitation_df.head()"
   ]
  },
  {
   "cell_type": "markdown",
   "id": "million-conjunction",
   "metadata": {},
   "source": [
    "### Create Sample Dataframe for Regression\n",
    "##### Creating final dataframe that contains Park name, acreage, average number of visitors for the past 10 years, number of species present in each park, number of native species in each park, number of non-native or invasive species in each park"
   ]
  },
  {
   "cell_type": "code",
   "execution_count": 7,
   "id": "aging-bulgaria",
   "metadata": {},
   "outputs": [
    {
     "data": {
      "text/html": [
       "<div>\n",
       "<style scoped>\n",
       "    .dataframe tbody tr th:only-of-type {\n",
       "        vertical-align: middle;\n",
       "    }\n",
       "\n",
       "    .dataframe tbody tr th {\n",
       "        vertical-align: top;\n",
       "    }\n",
       "\n",
       "    .dataframe thead th {\n",
       "        text-align: right;\n",
       "    }\n",
       "</style>\n",
       "<table border=\"1\" class=\"dataframe\">\n",
       "  <thead>\n",
       "    <tr style=\"text-align: right;\">\n",
       "      <th></th>\n",
       "      <th>Park Code</th>\n",
       "      <th>Park Name</th>\n",
       "      <th>State</th>\n",
       "      <th>Acres</th>\n",
       "      <th>Latitude</th>\n",
       "      <th>Longitude</th>\n",
       "      <th>Total_Species</th>\n",
       "      <th>Total_Native_Species</th>\n",
       "      <th>Total_NonNative_Species</th>\n",
       "      <th>NonNative_Ratio</th>\n",
       "      <th>Park_Visitors</th>\n",
       "    </tr>\n",
       "  </thead>\n",
       "  <tbody>\n",
       "    <tr>\n",
       "      <th>0</th>\n",
       "      <td>ACAD</td>\n",
       "      <td>Acadia National Park</td>\n",
       "      <td>ME</td>\n",
       "      <td>47390</td>\n",
       "      <td>44.35</td>\n",
       "      <td>-68.21</td>\n",
       "      <td>1709</td>\n",
       "      <td>1189</td>\n",
       "      <td>485</td>\n",
       "      <td>0.283792</td>\n",
       "      <td>2889149.1</td>\n",
       "    </tr>\n",
       "    <tr>\n",
       "      <th>1</th>\n",
       "      <td>ARCH</td>\n",
       "      <td>Arches National Park</td>\n",
       "      <td>UT</td>\n",
       "      <td>76519</td>\n",
       "      <td>38.68</td>\n",
       "      <td>-109.57</td>\n",
       "      <td>1048</td>\n",
       "      <td>939</td>\n",
       "      <td>108</td>\n",
       "      <td>0.103053</td>\n",
       "      <td>1356430.3</td>\n",
       "    </tr>\n",
       "    <tr>\n",
       "      <th>2</th>\n",
       "      <td>BADL</td>\n",
       "      <td>Badlands National Park</td>\n",
       "      <td>SD</td>\n",
       "      <td>242756</td>\n",
       "      <td>43.75</td>\n",
       "      <td>-102.50</td>\n",
       "      <td>1389</td>\n",
       "      <td>779</td>\n",
       "      <td>99</td>\n",
       "      <td>0.071274</td>\n",
       "      <td>945142.7</td>\n",
       "    </tr>\n",
       "    <tr>\n",
       "      <th>3</th>\n",
       "      <td>BIBE</td>\n",
       "      <td>Big Bend National Park</td>\n",
       "      <td>TX</td>\n",
       "      <td>801163</td>\n",
       "      <td>29.25</td>\n",
       "      <td>-103.25</td>\n",
       "      <td>2269</td>\n",
       "      <td>2108</td>\n",
       "      <td>112</td>\n",
       "      <td>0.049361</td>\n",
       "      <td>379311.5</td>\n",
       "    </tr>\n",
       "    <tr>\n",
       "      <th>4</th>\n",
       "      <td>BISC</td>\n",
       "      <td>Biscayne National Park</td>\n",
       "      <td>FL</td>\n",
       "      <td>172924</td>\n",
       "      <td>25.65</td>\n",
       "      <td>-80.08</td>\n",
       "      <td>1726</td>\n",
       "      <td>751</td>\n",
       "      <td>241</td>\n",
       "      <td>0.139629</td>\n",
       "      <td>503466.2</td>\n",
       "    </tr>\n",
       "  </tbody>\n",
       "</table>\n",
       "</div>"
      ],
      "text/plain": [
       "  Park Code               Park Name State   Acres  Latitude  Longitude  \\\n",
       "0      ACAD    Acadia National Park    ME   47390     44.35     -68.21   \n",
       "1      ARCH    Arches National Park    UT   76519     38.68    -109.57   \n",
       "2      BADL  Badlands National Park    SD  242756     43.75    -102.50   \n",
       "3      BIBE  Big Bend National Park    TX  801163     29.25    -103.25   \n",
       "4      BISC  Biscayne National Park    FL  172924     25.65     -80.08   \n",
       "\n",
       "   Total_Species  Total_Native_Species  Total_NonNative_Species  \\\n",
       "0           1709                  1189                      485   \n",
       "1           1048                   939                      108   \n",
       "2           1389                   779                       99   \n",
       "3           2269                  2108                      112   \n",
       "4           1726                   751                      241   \n",
       "\n",
       "   NonNative_Ratio  Park_Visitors  \n",
       "0         0.283792      2889149.1  \n",
       "1         0.103053      1356430.3  \n",
       "2         0.071274       945142.7  \n",
       "3         0.049361       379311.5  \n",
       "4         0.139629       503466.2  "
      ]
     },
     "execution_count": 7,
     "metadata": {},
     "output_type": "execute_result"
    }
   ],
   "source": [
    "mockup_df.head()"
   ]
  },
  {
   "cell_type": "code",
   "execution_count": 8,
   "id": "executed-division",
   "metadata": {},
   "outputs": [
    {
     "data": {
      "image/png": "[encoded data removed]",
      "text/plain": [
       "<Figure size 432x288 with 1 Axes>"
      ]
     },
     "metadata": {
      "needs_background": "light"
     },
     "output_type": "display_data"
    }
   ],
   "source": [
    "plt.scatter(mockup_df.Acres, mockup_df.Total_Species)\n",
    "plt.xlabel('Acreage')\n",
    "plt.ylabel('Total Number of Species')\n",
    "plt.show()"
   ]
  },
  {
   "cell_type": "code",
   "execution_count": 10,
   "id": "intimate-bikini",
   "metadata": {},
   "outputs": [
    {
     "data": {
      "image/png": "[encoded data removed]",
      "text/plain": [
       "<Figure size 432x288 with 1 Axes>"
      ]
     },
     "metadata": {
      "needs_background": "light"
     },
     "output_type": "display_data"
    }
   ],
   "source": [
    "plt.scatter(mockup_df.Park_Visitors, mockup_df.Total_NonNative_Species)\n",
    "plt.xlabel('10 Year Average of Park Visitation')\n",
    "plt.ylabel('Total')\n",
    "plt.show()"
   ]
  },
  {
   "cell_type": "code",
   "execution_count": null,
   "id": "enclosed-dover",
   "metadata": {},
   "outputs": [],
   "source": [
    "plt.scatter(mockup_df.Park_Visitors, mockup_df.NonNative_Ratio)\n",
    "plt.xlabel('10 Year Average of Park Visitation')\n",
    "plt.ylabel('Ratio of Non-Native Species to Total Population')\n",
    "plt.show()"
   ]
  }
 ],
 "metadata": {
  "kernelspec": {
   "display_name": "mlenv",
   "language": "python",
   "name": "mlenv"
  },
  "language_info": {
   "codemirror_mode": {
    "name": "ipython",
    "version": 3
   },
   "file_extension": ".py",
   "mimetype": "text/x-python",
   "name": "python",
   "nbconvert_exporter": "python",
   "pygments_lexer": "ipython3",
   "version": "3.7.9"
  }
 },
 "nbformat": 4,
 "nbformat_minor": 5
}
