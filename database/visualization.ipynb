{
 "cells": [
  {
   "cell_type": "code",
   "execution_count": 1,
   "metadata": {},
   "outputs": [],
   "source": [
    "import pandas as pd\n",
    "from ipyleaflet import *\n",
    "from ipyleaflet import Map, basemaps, basemap_to_tiles"
   ]
  },
  {
   "cell_type": "code",
   "execution_count": 2,
   "metadata": {},
   "outputs": [
    {
     "data": {
      "text/html": [
       "<div>\n",
       "<style scoped>\n",
       "    .dataframe tbody tr th:only-of-type {\n",
       "        vertical-align: middle;\n",
       "    }\n",
       "\n",
       "    .dataframe tbody tr th {\n",
       "        vertical-align: top;\n",
       "    }\n",
       "\n",
       "    .dataframe thead th {\n",
       "        text-align: right;\n",
       "    }\n",
       "</style>\n",
       "<table border=\"1\" class=\"dataframe\">\n",
       "  <thead>\n",
       "    <tr style=\"text-align: right;\">\n",
       "      <th></th>\n",
       "      <th>Park Name</th>\n",
       "      <th>Category</th>\n",
       "      <th>count</th>\n",
       "      <th>Nativeness</th>\n",
       "    </tr>\n",
       "  </thead>\n",
       "  <tbody>\n",
       "    <tr>\n",
       "      <th>0</th>\n",
       "      <td>Acadia National Park</td>\n",
       "      <td>Amphibian</td>\n",
       "      <td>12</td>\n",
       "      <td>Native</td>\n",
       "    </tr>\n",
       "    <tr>\n",
       "      <th>1</th>\n",
       "      <td>Acadia National Park</td>\n",
       "      <td>Amphibian</td>\n",
       "      <td>1</td>\n",
       "      <td>Not Native</td>\n",
       "    </tr>\n",
       "    <tr>\n",
       "      <th>2</th>\n",
       "      <td>Acadia National Park</td>\n",
       "      <td>Bird</td>\n",
       "      <td>231</td>\n",
       "      <td>Native</td>\n",
       "    </tr>\n",
       "    <tr>\n",
       "      <th>3</th>\n",
       "      <td>Acadia National Park</td>\n",
       "      <td>Bird</td>\n",
       "      <td>117</td>\n",
       "      <td>Not Native</td>\n",
       "    </tr>\n",
       "    <tr>\n",
       "      <th>4</th>\n",
       "      <td>Acadia National Park</td>\n",
       "      <td>Fish</td>\n",
       "      <td>14</td>\n",
       "      <td>Native</td>\n",
       "    </tr>\n",
       "    <tr>\n",
       "      <th>...</th>\n",
       "      <td>...</td>\n",
       "      <td>...</td>\n",
       "      <td>...</td>\n",
       "      <td>...</td>\n",
       "    </tr>\n",
       "    <tr>\n",
       "      <th>669</th>\n",
       "      <td>Zion National Park</td>\n",
       "      <td>Mammal</td>\n",
       "      <td>78</td>\n",
       "      <td>Native</td>\n",
       "    </tr>\n",
       "    <tr>\n",
       "      <th>670</th>\n",
       "      <td>Zion National Park</td>\n",
       "      <td>Mammal</td>\n",
       "      <td>2</td>\n",
       "      <td>Not Native</td>\n",
       "    </tr>\n",
       "    <tr>\n",
       "      <th>671</th>\n",
       "      <td>Zion National Park</td>\n",
       "      <td>Reptile</td>\n",
       "      <td>29</td>\n",
       "      <td>Native</td>\n",
       "    </tr>\n",
       "    <tr>\n",
       "      <th>672</th>\n",
       "      <td>Zion National Park</td>\n",
       "      <td>Vascular Plant</td>\n",
       "      <td>1173</td>\n",
       "      <td>Native</td>\n",
       "    </tr>\n",
       "    <tr>\n",
       "      <th>673</th>\n",
       "      <td>Zion National Park</td>\n",
       "      <td>Vascular Plant</td>\n",
       "      <td>189</td>\n",
       "      <td>Not Native</td>\n",
       "    </tr>\n",
       "  </tbody>\n",
       "</table>\n",
       "<p>674 rows × 4 columns</p>\n",
       "</div>"
      ],
      "text/plain": [
       "                Park Name        Category  count  Nativeness\n",
       "0    Acadia National Park       Amphibian     12      Native\n",
       "1    Acadia National Park       Amphibian      1  Not Native\n",
       "2    Acadia National Park            Bird    231      Native\n",
       "3    Acadia National Park            Bird    117  Not Native\n",
       "4    Acadia National Park            Fish     14      Native\n",
       "..                    ...             ...    ...         ...\n",
       "669    Zion National Park          Mammal     78      Native\n",
       "670    Zion National Park          Mammal      2  Not Native\n",
       "671    Zion National Park         Reptile     29      Native\n",
       "672    Zion National Park  Vascular Plant   1173      Native\n",
       "673    Zion National Park  Vascular Plant    189  Not Native\n",
       "\n",
       "[674 rows x 4 columns]"
      ]
     },
     "execution_count": 2,
     "metadata": {},
     "output_type": "execute_result"
    }
   ],
   "source": [
    "nativeornote_df = pd.read_csv(\"nativeornot.csv\")\n",
    "nativeornote_df"
   ]
  },
  {
   "cell_type": "code",
   "execution_count": 3,
   "metadata": {},
   "outputs": [
    {
     "data": {
      "application/vnd.jupyter.widget-view+json": {
       "model_id": "6606641c27194566887dea28f49f8d33",
       "version_major": 2,
       "version_minor": 0
      },
      "text/plain": [
       "Map(center=[45.0998, -120.1586], controls=(ZoomControl(options=['position', 'zoom_in_text', 'zoom_in_title', '…"
      ]
     },
     "metadata": {},
     "output_type": "display_data"
    }
   ],
   "source": [
    "start_location = (45.0998, -120.1586)\n",
    "\n",
    "m = Map(center=start_location, zoom=3, scroll_wheel_zoom=True)\n",
    "\n",
    "display(m)"
   ]
  },
  {
   "cell_type": "code",
   "execution_count": 4,
   "metadata": {},
   "outputs": [
    {
     "data": {
      "application/vnd.jupyter.widget-view+json": {
       "model_id": "77989693fc1c4961ac3664d1ae386c63",
       "version_major": 2,
       "version_minor": 0
      },
      "text/plain": [
       "Map(center=[45.0998, -120.1586], controls=(ZoomControl(options=['position', 'zoom_in_text', 'zoom_in_title', '…"
      ]
     },
     "metadata": {},
     "output_type": "display_data"
    }
   ],
   "source": [
    "m = Map(\n",
    "    basemap=basemap_to_tiles(basemaps.OpenTopoMap, \"2017-04-08\"),\n",
    "    center=(45.0998, -120.1586),\n",
    "    zoom=3\n",
    ")\n",
    "\n",
    "m"
   ]
  },
  {
   "cell_type": "code",
   "execution_count": null,
   "metadata": {},
   "outputs": [],
   "source": []
  }
 ],
 "metadata": {
  "kernelspec": {
   "display_name": "PythonData",
   "language": "python",
   "name": "pythondata"
  },
  "language_info": {
   "codemirror_mode": {
    "name": "ipython",
    "version": 3
   },
   "file_extension": ".py",
   "mimetype": "text/x-python",
   "name": "python",
   "nbconvert_exporter": "python",
   "pygments_lexer": "ipython3",
   "version": "3.7.7"
  }
 },
 "nbformat": 4,
 "nbformat_minor": 4
}
